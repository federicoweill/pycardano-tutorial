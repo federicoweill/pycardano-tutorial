{
  "nbformat": 4,
  "nbformat_minor": 0,
  "metadata": {
    "colab": {
      "provenance": [],
      "authorship_tag": "ABX9TyNNt4H+ASgfmmet3E6OWdwa",
      "include_colab_link": true
    },
    "kernelspec": {
      "name": "python3",
      "display_name": "Python 3"
    },
    "language_info": {
      "name": "python"
    }
  },
  "cells": [
    {
      "cell_type": "markdown",
      "metadata": {
        "id": "view-in-github",
        "colab_type": "text"
      },
      "source": [
        "<a href=\"https://colab.research.google.com/github/federicoweill/pycardano-tutorial/blob/main/pycardano_tutorial.ipynb\" target=\"_parent\"><img src=\"https://colab.research.google.com/assets/colab-badge.svg\" alt=\"Open In Colab\"/></a>"
      ]
    },
    {
      "cell_type": "markdown",
      "source": [
        "## PyCardano Quickstart Tutorial"
      ],
      "metadata": {
        "id": "iDO1KwKeuoN8"
      }
    },
    {
      "cell_type": "code",
      "source": [
        "!pip install pycardano"
      ],
      "metadata": {
        "colab": {
          "base_uri": "https://localhost:8080/"
        },
        "id": "Z-FlFMFFvC_T",
        "outputId": "d749a0ea-87c1-4332-a673-03171dfd64e4"
      },
      "execution_count": 1,
      "outputs": [
        {
          "output_type": "stream",
          "name": "stdout",
          "text": [
            "Looking in indexes: https://pypi.org/simple, https://us-python.pkg.dev/colab-wheels/public/simple/\n",
            "Collecting pycardano\n",
            "  Downloading pycardano-0.9.0-py3-none-any.whl (71 kB)\n",
            "\u001b[2K     \u001b[90m━━━━━━━━━━━━━━━━━━━━━━━━━━━━━━━━━━━━━━━━\u001b[0m \u001b[32m71.2/71.2 kB\u001b[0m \u001b[31m1.9 MB/s\u001b[0m eta \u001b[36m0:00:00\u001b[0m\n",
            "\u001b[?25hCollecting ECPy<2.0.0,>=1.2.5 (from pycardano)\n",
            "  Downloading ECPy-1.2.5-py3-none-any.whl (43 kB)\n",
            "\u001b[2K     \u001b[90m━━━━━━━━━━━━━━━━━━━━━━━━━━━━━━━━━━━━━━━\u001b[0m \u001b[32m43.1/43.1 kB\u001b[0m \u001b[31m770.6 kB/s\u001b[0m eta \u001b[36m0:00:00\u001b[0m\n",
            "\u001b[?25hCollecting PyNaCl<2.0.0,>=1.5.0 (from pycardano)\n",
            "  Downloading PyNaCl-1.5.0-cp36-abi3-manylinux_2_17_x86_64.manylinux2014_x86_64.manylinux_2_24_x86_64.whl (856 kB)\n",
            "\u001b[2K     \u001b[90m━━━━━━━━━━━━━━━━━━━━━━━━━━━━━━━━━━━━━━\u001b[0m \u001b[32m856.7/856.7 kB\u001b[0m \u001b[31m14.9 MB/s\u001b[0m eta \u001b[36m0:00:00\u001b[0m\n",
            "\u001b[?25hCollecting blockfrost-python==0.5.3 (from pycardano)\n",
            "  Downloading blockfrost_python-0.5.3-py3-none-any.whl (29 kB)\n",
            "Collecting cbor2<6.0.0,>=5.4.3 (from pycardano)\n",
            "  Downloading cbor2-5.4.6-cp310-cp310-manylinux_2_17_x86_64.manylinux2014_x86_64.whl (224 kB)\n",
            "\u001b[2K     \u001b[90m━━━━━━━━━━━━━━━━━━━━━━━━━━━━━━━━━━━━━━\u001b[0m \u001b[32m224.6/224.6 kB\u001b[0m \u001b[31m12.5 MB/s\u001b[0m eta \u001b[36m0:00:00\u001b[0m\n",
            "\u001b[?25hCollecting cose==0.9.dev8 (from pycardano)\n",
            "  Downloading cose-0.9.dev8-py3-none-any.whl (48 kB)\n",
            "\u001b[2K     \u001b[90m━━━━━━━━━━━━━━━━━━━━━━━━━━━━━━━━━━━━━━━━\u001b[0m \u001b[32m49.0/49.0 kB\u001b[0m \u001b[31m2.9 MB/s\u001b[0m eta \u001b[36m0:00:00\u001b[0m\n",
            "\u001b[?25hCollecting frozendict<3.0.0,>=2.3.8 (from pycardano)\n",
            "  Downloading frozendict-2.3.8-cp310-cp310-manylinux_2_17_x86_64.manylinux2014_x86_64.whl (115 kB)\n",
            "\u001b[2K     \u001b[90m━━━━━━━━━━━━━━━━━━━━━━━━━━━━━━━━━━━━━━━\u001b[0m \u001b[32m115.3/115.3 kB\u001b[0m \u001b[31m5.9 MB/s\u001b[0m eta \u001b[36m0:00:00\u001b[0m\n",
            "\u001b[?25hCollecting frozenlist<2.0.0,>=1.3.3 (from pycardano)\n",
            "  Downloading frozenlist-1.3.3-cp310-cp310-manylinux_2_5_x86_64.manylinux1_x86_64.manylinux_2_17_x86_64.manylinux2014_x86_64.whl (149 kB)\n",
            "\u001b[2K     \u001b[90m━━━━━━━━━━━━━━━━━━━━━━━━━━━━━━━━━━━━━━━\u001b[0m \u001b[32m149.6/149.6 kB\u001b[0m \u001b[31m8.2 MB/s\u001b[0m eta \u001b[36m0:00:00\u001b[0m\n",
            "\u001b[?25hCollecting mnemonic<0.21,>=0.20 (from pycardano)\n",
            "  Downloading mnemonic-0.20-py3-none-any.whl (62 kB)\n",
            "\u001b[2K     \u001b[90m━━━━━━━━━━━━━━━━━━━━━━━━━━━━━━━━━━━━━━━━\u001b[0m \u001b[32m62.0/62.0 kB\u001b[0m \u001b[31m4.2 MB/s\u001b[0m eta \u001b[36m0:00:00\u001b[0m\n",
            "\u001b[?25hCollecting pprintpp<0.5.0,>=0.4.0 (from pycardano)\n",
            "  Downloading pprintpp-0.4.0-py2.py3-none-any.whl (16 kB)\n",
            "Collecting typeguard<3.0.0,>=2.13.3 (from pycardano)\n",
            "  Downloading typeguard-2.13.3-py3-none-any.whl (17 kB)\n",
            "Requirement already satisfied: websocket-client<2.0.0,>=1.4.1 in /usr/local/lib/python3.10/dist-packages (from pycardano) (1.5.1)\n",
            "Requirement already satisfied: requests in /usr/local/lib/python3.10/dist-packages (from blockfrost-python==0.5.3->pycardano) (2.27.1)\n",
            "Requirement already satisfied: cryptography in /usr/local/lib/python3.10/dist-packages (from cose==0.9.dev8->pycardano) (40.0.2)\n",
            "Collecting ecdsa (from cose==0.9.dev8->pycardano)\n",
            "  Downloading ecdsa-0.18.0-py2.py3-none-any.whl (142 kB)\n",
            "\u001b[2K     \u001b[90m━━━━━━━━━━━━━━━━━━━━━━━━━━━━━━━━━━━━━━\u001b[0m \u001b[32m142.9/142.9 kB\u001b[0m \u001b[31m10.9 MB/s\u001b[0m eta \u001b[36m0:00:00\u001b[0m\n",
            "\u001b[?25hRequirement already satisfied: attrs in /usr/local/lib/python3.10/dist-packages (from cose==0.9.dev8->pycardano) (23.1.0)\n",
            "Collecting certvalidator (from cose==0.9.dev8->pycardano)\n",
            "  Downloading certvalidator-0.11.1-py2.py3-none-any.whl (31 kB)\n",
            "Requirement already satisfied: cffi>=1.4.1 in /usr/local/lib/python3.10/dist-packages (from PyNaCl<2.0.0,>=1.5.0->pycardano) (1.15.1)\n",
            "Requirement already satisfied: pycparser in /usr/local/lib/python3.10/dist-packages (from cffi>=1.4.1->PyNaCl<2.0.0,>=1.5.0->pycardano) (2.21)\n",
            "Collecting asn1crypto>=0.18.1 (from certvalidator->cose==0.9.dev8->pycardano)\n",
            "  Downloading asn1crypto-1.5.1-py2.py3-none-any.whl (105 kB)\n",
            "\u001b[2K     \u001b[90m━━━━━━━━━━━━━━━━━━━━━━━━━━━━━━━━━━━━━━━\u001b[0m \u001b[32m105.0/105.0 kB\u001b[0m \u001b[31m5.3 MB/s\u001b[0m eta \u001b[36m0:00:00\u001b[0m\n",
            "\u001b[?25hCollecting oscrypto>=0.16.1 (from certvalidator->cose==0.9.dev8->pycardano)\n",
            "  Downloading oscrypto-1.3.0-py2.py3-none-any.whl (194 kB)\n",
            "\u001b[2K     \u001b[90m━━━━━━━━━━━━━━━━━━━━━━━━━━━━━━━━━━━━━━━\u001b[0m \u001b[32m194.6/194.6 kB\u001b[0m \u001b[31m9.0 MB/s\u001b[0m eta \u001b[36m0:00:00\u001b[0m\n",
            "\u001b[?25hRequirement already satisfied: six>=1.9.0 in /usr/local/lib/python3.10/dist-packages (from ecdsa->cose==0.9.dev8->pycardano) (1.16.0)\n",
            "Requirement already satisfied: urllib3<1.27,>=1.21.1 in /usr/local/lib/python3.10/dist-packages (from requests->blockfrost-python==0.5.3->pycardano) (1.26.15)\n",
            "Requirement already satisfied: certifi>=2017.4.17 in /usr/local/lib/python3.10/dist-packages (from requests->blockfrost-python==0.5.3->pycardano) (2022.12.7)\n",
            "Requirement already satisfied: charset-normalizer~=2.0.0 in /usr/local/lib/python3.10/dist-packages (from requests->blockfrost-python==0.5.3->pycardano) (2.0.12)\n",
            "Requirement already satisfied: idna<4,>=2.5 in /usr/local/lib/python3.10/dist-packages (from requests->blockfrost-python==0.5.3->pycardano) (3.4)\n",
            "Installing collected packages: pprintpp, ECPy, asn1crypto, typeguard, oscrypto, mnemonic, frozenlist, frozendict, ecdsa, cbor2, PyNaCl, certvalidator, blockfrost-python, cose, pycardano\n",
            "  Attempting uninstall: frozendict\n",
            "    Found existing installation: frozendict 2.3.7\n",
            "    Uninstalling frozendict-2.3.7:\n",
            "      Successfully uninstalled frozendict-2.3.7\n",
            "Successfully installed ECPy-1.2.5 PyNaCl-1.5.0 asn1crypto-1.5.1 blockfrost-python-0.5.3 cbor2-5.4.6 certvalidator-0.11.1 cose-0.9.dev8 ecdsa-0.18.0 frozendict-2.3.8 frozenlist-1.3.3 mnemonic-0.20 oscrypto-1.3.0 pprintpp-0.4.0 pycardano-0.9.0 typeguard-2.13.3\n"
          ]
        }
      ]
    },
    {
      "cell_type": "code",
      "execution_count": 2,
      "metadata": {
        "id": "3Q_4UgX5umkO"
      },
      "outputs": [],
      "source": [
        "from pycardano import Address, Network, PaymentSigningKey, PaymentVerificationKey"
      ]
    },
    {
      "cell_type": "code",
      "source": [
        "payment_signing_key = PaymentSigningKey.generate()\n",
        "payment_signing_key.save(\"payment.skey\")\n",
        "\n"
      ],
      "metadata": {
        "id": "lJa4M9Mfu17d"
      },
      "execution_count": 3,
      "outputs": []
    },
    {
      "cell_type": "code",
      "source": [
        "payment_verification_key = PaymentVerificationKey.from_signing_key(payment_signing_key)\n",
        "payment_verification_key.save(\"payment.vkey\")"
      ],
      "metadata": {
        "id": "JRs-mOvau-WL"
      },
      "execution_count": 4,
      "outputs": []
    },
    {
      "cell_type": "code",
      "source": [
        "network = Network.TESTNET\n",
        "address = Address(payment_part=payment_verification_key.hash(), network=network)\n",
        "address\n"
      ],
      "metadata": {
        "colab": {
          "base_uri": "https://localhost:8080/"
        },
        "id": "elLJ1TrKu8TF",
        "outputId": "a3447962-810f-4ed8-b830-3171643fcbd0"
      },
      "execution_count": 5,
      "outputs": [
        {
          "output_type": "execute_result",
          "data": {
            "text/plain": [
              "addr_test1vqf5vnnaf2m8q6mku9ne2t49e3d0qjc9wasxs3d9qs2ghzsfx86dl"
            ]
          },
          "metadata": {},
          "execution_count": 5
        }
      ]
    },
    {
      "cell_type": "code",
      "source": [],
      "metadata": {
        "id": "-gZ8wqhJviaz"
      },
      "execution_count": null,
      "outputs": []
    }
  ]
}